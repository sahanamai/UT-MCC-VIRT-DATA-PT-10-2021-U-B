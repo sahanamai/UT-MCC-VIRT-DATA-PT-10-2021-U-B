{
 "cells": [
  {
   "cell_type": "markdown",
   "id": "fd846029",
   "metadata": {},
   "source": [
    "### Creating lists in Python"
   ]
  },
  {
   "cell_type": "code",
   "execution_count": 1,
   "id": "83da07a7",
   "metadata": {},
   "outputs": [
    {
     "data": {
      "text/plain": [
       "['Austin', 'Texas', 'Data Analytics', 'McCombs School of Business']"
      ]
     },
     "execution_count": 1,
     "metadata": {},
     "output_type": "execute_result"
    }
   ],
   "source": [
    "# original list\n",
    "list_of_things = [\"Austin\", \"Texas\", \"Data Analytics\", \"McCombs School of Business\"]\n",
    "list_of_things"
   ]
  },
  {
   "cell_type": "markdown",
   "id": "aa79ab5e",
   "metadata": {},
   "source": [
    "#### Use a for loop to add elements to a new list"
   ]
  },
  {
   "cell_type": "code",
   "execution_count": 5,
   "id": "99460e5e",
   "metadata": {},
   "outputs": [
    {
     "data": {
      "text/plain": [
       "['AUSTIN', 'TEXAS', 'DATA ANALYTICS', 'MCCOMBS SCHOOL OF BUSINESS']"
      ]
     },
     "execution_count": 5,
     "metadata": {},
     "output_type": "execute_result"
    }
   ],
   "source": [
    "another_list_of_things = []\n",
    "for element in list_of_things:\n",
    "    # upper case element\n",
    "    new_element = element.upper()\n",
    "    # add to new list\n",
    "    another_list_of_things.append(new_element)\n",
    "# print in notebook\n",
    "another_list_of_things    "
   ]
  },
  {
   "cell_type": "markdown",
   "id": "a0a790af",
   "metadata": {},
   "source": [
    "### Use list comprehension\n",
    "\n",
    "Use to simplify creation of lists. "
   ]
  },
  {
   "cell_type": "code",
   "execution_count": 5,
   "id": "35909150",
   "metadata": {},
   "outputs": [
    {
     "data": {
      "text/plain": [
       "['AUSTIN', 'TEXAS', 'DATA ANALYTICS', 'MCCOMBS SCHOOL OF BUSINESS']"
      ]
     },
     "execution_count": 5,
     "metadata": {},
     "output_type": "execute_result"
    }
   ],
   "source": [
    "another_list_of_things = [element.upper() for element in list_of_things]\n",
    "another_list_of_things"
   ]
  },
  {
   "cell_type": "markdown",
   "id": "2eafc7bf",
   "metadata": {},
   "source": [
    "![list_comprehension](images/list_comprehensions.jpg)"
   ]
  }
 ],
 "metadata": {
  "kernelspec": {
   "display_name": "PythonData",
   "language": "python",
   "name": "pythondata"
  },
  "language_info": {
   "codemirror_mode": {
    "name": "ipython",
    "version": 3
   },
   "file_extension": ".py",
   "mimetype": "text/x-python",
   "name": "python",
   "nbconvert_exporter": "python",
   "pygments_lexer": "ipython3",
   "version": "3.7.10"
  }
 },
 "nbformat": 4,
 "nbformat_minor": 5
}

{
 "cells": [
  {
   "cell_type": "markdown",
   "id": "260b9b91",
   "metadata": {},
   "source": [
    "### Creating dataframes"
   ]
  },
  {
   "cell_type": "code",
   "execution_count": null,
   "id": "49299950",
   "metadata": {},
   "outputs": [],
   "source": [
    "import pandas as pd\n",
    "import numpy as np"
   ]
  },
  {
   "cell_type": "code",
   "execution_count": null,
   "id": "2aa3dfd9",
   "metadata": {},
   "outputs": [],
   "source": [
    "# Initialize an empty dataframe and add values to it\n",
    "columns_to_create = ['location','state','name','lastname','challenge_one_grade','challenge_two_grade','challenge_three_grade']\n",
    "df = pd.DataFrame(columns = columns_to_create)\n",
    "# Add records to dataframe using the .loc function\n",
    "df.loc[0] = [\"Austin\",\"TX\",\"Juan\",\"Martinez\",100,99,70] \n",
    "df.loc[1] = [\"Austin\",\"TX\",\"Ellie\",\"Smith\",88,95,100] \n",
    "df.loc[2] = [\"San Antonio\",\"TX\",\"George\",\"Garcia\",100,np.nan,np.nan] \n",
    "df.loc[3] = [\"Laredo\",\"TX\",\"Maria\",\"Logit\",100,100,100] \n",
    "df.loc[4] = [\"Dallas\",\"TX\",\"Test\",\"Account\",55,60,90] \n",
    "df.loc[5] = [\"El Paso\",\"TX\",\"Gina\",\"Perdue\",75,86,np.nan] \n",
    "df.loc[6] = [\"Chicago\",\"IL\",\"Andrew\",\"Lablanc\",81,83,55] \n",
    "df.loc[7] = [\"Naperville\",\"IL\",\"Joe\",\"Dile\",77,45,81] \n",
    "df.loc[8] = [\"Springfield\",\"IL\",\"Mary\",\"Smith\",32,75,99] \n",
    "df.loc[9] = [\"Miami\",\"FL\",\"Tabelon\",\"Legruti\",100,95,81] \n",
    "df.loc[10] = [\"Orlando\",\"FL\",\"Wuda\",\"Jenkins\",30,0,75] \n",
    "df"
   ]
  },
  {
   "cell_type": "code",
   "execution_count": null,
   "id": "387d2937",
   "metadata": {},
   "outputs": [],
   "source": [
    "# Creating with lists\n",
    "list_of_grades = []\n",
    "list_of_grades.append([\"Austin\",\"TX\",\"Juan\",\"Martinez\",100,99,70])\n",
    "list_of_grades.append([\"Austin\",\"TX\",\"Ellie\",\"Smith\",88,95,100]) \n",
    "list_of_grades.append([\"San Antonio\",\"TX\",\"George\",\"Garcia\",100,np.nan,np.nan]) \n",
    "list_of_grades.append([\"Laredo\",\"TX\",\"Maria\",\"Logit\",100,100,100]) \n",
    "list_of_grades.append([\"Dallas\",\"TX\",\"Test\",\"Account\",55,60,90]) \n",
    "list_of_grades.append([\"El Paso\",\"TX\",\"Gina\",\"Perdue\",75,86,np.nan]) \n",
    "list_of_grades.append([\"Chicago\",\"IL\",\"Andrew\",\"Lablanc\",81,83,55])\n",
    "list_of_grades.append([\"Naperville\",\"IL\",\"Joe\",\"Dile\",77,45,81]) \n",
    "list_of_grades.append([\"Springfield\",\"IL\",\"Mary\",\"Smith\",32,75,99]) \n",
    "list_of_grades.append([\"Miami\",\"FL\",\"Tabelon\",\"Legruti\",100,95,81])\n",
    "list_of_grades.append([\"Orlando\",\"FL\",\"Wuda\",\"Jenkins\",30,0,75]) \n",
    "\n",
    "for row in list_of_grades:\n",
    "    print(row)\n"
   ]
  },
  {
   "cell_type": "code",
   "execution_count": null,
   "id": "28c63b58",
   "metadata": {},
   "outputs": [],
   "source": [
    "# create df\n",
    "columns_to_create = ['location','state','name','lastname','challenge_one_grade','challenge_two_grade','challenge_three_grade']\n",
    "df_from_list = pd.DataFrame(data=list_of_grades,columns = columns_to_create)\n",
    "df_from_list"
   ]
  },
  {
   "cell_type": "code",
   "execution_count": null,
   "id": "5e86faa9",
   "metadata": {},
   "outputs": [],
   "source": [
    "\",\".join([f\"{l}\" for l in list(df_from_list['challenge_three_grade'])])"
   ]
  },
  {
   "cell_type": "code",
   "execution_count": null,
   "id": "d1610287",
   "metadata": {},
   "outputs": [],
   "source": [
    "# Create lists\n",
    "location_list = ['Austin','Austin','San Antonio','Laredo','Dallas','El Paso','Chicago','Naperville','Springfield','Miami','Orlando']\n",
    "state_list = ['TX','TX','TX','TX','TX','TX','IL','IL','IL','FL','FL']\n",
    "name_list = ['Juan','Ellie','George','Maria','Test','Gina','Andrew','Joe','Mary','Tabelon','Wuda']\n",
    "lastname_list = ['Martinez','Smith','Garcia','Logit','Account','Perdue','Lablanc','Dile','Smith','Legruti','Jenkins']\n",
    "challenge_one_grade = [100,88,100,100,55,75,81,77,32,100,30]\n",
    "challenge_two_grade = [99.0,95.0,np.nan,100.0,60.0,86.0,83.0,45.0,75.0,95.0,0.0]\n",
    "challenge_three_grade = [70.0,100.0,np.nan,100.0,90.0,np.nan,55.0,81.0,99.0,81.0,75.0]\n",
    "\n",
    "# Create dictionary of lists\n",
    "class_data = { 'location': location_list,\n",
    "               'state': state_list,\n",
    "               'name': name_list,\n",
    "               'lastname': lastname_list,\n",
    "               'challenge_one_grade': challenge_one_grade,\n",
    "               'challenge_two_grade': challenge_two_grade,\n",
    "               'challenge_three_grade': challenge_three_grade}"
   ]
  },
  {
   "cell_type": "code",
   "execution_count": null,
   "id": "53c2d680",
   "metadata": {},
   "outputs": [],
   "source": [
    "# create df\n",
    "columns_to_create = ['location','state','name','lastname','challenge_one_grade','challenge_two_grade','challenge_three_grade']\n",
    "df_from_dict = pd.DataFrame(data=class_data,columns = columns_to_create)\n",
    "df_from_dict"
   ]
  },
  {
   "cell_type": "code",
   "execution_count": null,
   "id": "17d02ade",
   "metadata": {},
   "outputs": [],
   "source": [
    "df_from_dict['state'].value_counts()"
   ]
  }
 ],
 "metadata": {
  "kernelspec": {
   "display_name": "Python 3",
   "language": "python",
   "name": "python3"
  },
  "language_info": {
   "codemirror_mode": {
    "name": "ipython",
    "version": 3
   },
   "file_extension": ".py",
   "mimetype": "text/x-python",
   "name": "python",
   "nbconvert_exporter": "python",
   "pygments_lexer": "ipython3",
   "version": "3.7.10"
  }
 },
 "nbformat": 4,
 "nbformat_minor": 5
}

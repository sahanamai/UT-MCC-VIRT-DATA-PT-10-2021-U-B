{
 "cells": [
  {
   "cell_type": "markdown",
   "id": "260b9b91",
   "metadata": {},
   "source": [
    "### DataFrame"
   ]
  },
  {
   "cell_type": "code",
   "execution_count": 1,
   "id": "49299950",
   "metadata": {},
   "outputs": [],
   "source": [
    "import pandas as pd\n",
    "import numpy as np"
   ]
  },
  {
   "cell_type": "code",
   "execution_count": 34,
   "id": "d1610287",
   "metadata": {},
   "outputs": [],
   "source": [
    "# Create lists of lists, grades and number one column\n",
    "location_list = ['Austin','Austin','San Antonio','Laredo','Dallas','El Paso','Chicago','Naperville','Springfield','Miami','Orlando','Austin','Austin','San Antonio','Laredo','Dallas','El Paso','Chicago','Naperville','Springfield','Miami','Orlando','Austin','Austin','San Antonio','Laredo','Dallas','El Paso','Chicago','Naperville','Springfield','Miami','Orlando']\n",
    "state_list = ['TX','TX','TX','TX','TX','TX','IL','IL','IL','FL','FL','TX','TX','TX','TX','TX','TX','IL','IL','IL','FL','FL','TX','TX','TX','TX','TX','TX','IL','IL','IL','FL','FL']\n",
    "name_list = ['Juan','Ellie','George','Maria','Test','Gina','Andrew','Joe','Mary','Tabelon','Wuda','Juan','Ellie','George','Maria','Test','Gina','Andrew','Joe','Mary','Tabelon','Wuda','Juan','Ellie','George','Maria','Test','Gina','Andrew','Joe','Mary','Tabelon','Wuda']\n",
    "lastname_list = ['Martinez','Smith','Garcia','Logit','Account','Perdue','Lablanc','Dile','Smith','Legruti','Jenkins','Martinez','Smith','Garcia','Logit','Account','Perdue','Lablanc','Dile','Smith','Legruti','Jenkins','Martinez','Smith','Garcia','Logit','Account','Perdue','Lablanc','Dile','Smith','Legruti','Jenkins']\n",
    "challenge_grades = [100,None,100,100,55,75,81,77,32,100,30,99.0,95.0,np.nan,100.0,60.0,86.0,83.0,45.0,75.0,95.0,0.0,70.0,100.0,88,100.0,90.0,65,55.0,81.0,99.0,81.0,75.0]\n",
    "challenge_number = [1,1,1,1,1,1,1,1,1,1,1,2,2,2,2,2,2,2,2,2,2,2,3,3,3,3,3,3,3,3,3,3,3]\n",
    "\n",
    "# Create dictionary of lists\n",
    "class_data = { 'location': location_list,\n",
    "               'state': state_list,\n",
    "               'name': name_list,\n",
    "               'lastname': lastname_list,\n",
    "               'challenge_grades': challenge_grades,\n",
    "               'challenge_number': challenge_number}\n",
    "               "
   ]
  },
  {
   "cell_type": "code",
   "execution_count": 52,
   "id": "53c2d680",
   "metadata": {},
   "outputs": [
    {
     "data": {
      "text/html": [
       "<div>\n",
       "<style scoped>\n",
       "    .dataframe tbody tr th:only-of-type {\n",
       "        vertical-align: middle;\n",
       "    }\n",
       "\n",
       "    .dataframe tbody tr th {\n",
       "        vertical-align: top;\n",
       "    }\n",
       "\n",
       "    .dataframe thead th {\n",
       "        text-align: right;\n",
       "    }\n",
       "</style>\n",
       "<table border=\"1\" class=\"dataframe\">\n",
       "  <thead>\n",
       "    <tr style=\"text-align: right;\">\n",
       "      <th></th>\n",
       "      <th>location</th>\n",
       "      <th>state</th>\n",
       "      <th>name</th>\n",
       "      <th>lastname</th>\n",
       "      <th>challenge_grades</th>\n",
       "      <th>challenge_number</th>\n",
       "    </tr>\n",
       "  </thead>\n",
       "  <tbody>\n",
       "    <tr>\n",
       "      <th>0</th>\n",
       "      <td>Austin</td>\n",
       "      <td>TX</td>\n",
       "      <td>Juan</td>\n",
       "      <td>Martinez</td>\n",
       "      <td>100.0</td>\n",
       "      <td>1</td>\n",
       "    </tr>\n",
       "    <tr>\n",
       "      <th>1</th>\n",
       "      <td>Austin</td>\n",
       "      <td>TX</td>\n",
       "      <td>Ellie</td>\n",
       "      <td>Smith</td>\n",
       "      <td>NaN</td>\n",
       "      <td>1</td>\n",
       "    </tr>\n",
       "    <tr>\n",
       "      <th>2</th>\n",
       "      <td>San Antonio</td>\n",
       "      <td>TX</td>\n",
       "      <td>George</td>\n",
       "      <td>Garcia</td>\n",
       "      <td>100.0</td>\n",
       "      <td>1</td>\n",
       "    </tr>\n",
       "    <tr>\n",
       "      <th>3</th>\n",
       "      <td>Laredo</td>\n",
       "      <td>TX</td>\n",
       "      <td>Maria</td>\n",
       "      <td>Logit</td>\n",
       "      <td>100.0</td>\n",
       "      <td>1</td>\n",
       "    </tr>\n",
       "    <tr>\n",
       "      <th>4</th>\n",
       "      <td>Dallas</td>\n",
       "      <td>TX</td>\n",
       "      <td>Test</td>\n",
       "      <td>Account</td>\n",
       "      <td>55.0</td>\n",
       "      <td>1</td>\n",
       "    </tr>\n",
       "  </tbody>\n",
       "</table>\n",
       "</div>"
      ],
      "text/plain": [
       "      location state    name  lastname  challenge_grades  challenge_number\n",
       "0       Austin    TX    Juan  Martinez             100.0                 1\n",
       "1       Austin    TX   Ellie     Smith               NaN                 1\n",
       "2  San Antonio    TX  George    Garcia             100.0                 1\n",
       "3       Laredo    TX   Maria     Logit             100.0                 1\n",
       "4       Dallas    TX    Test   Account              55.0                 1"
      ]
     },
     "execution_count": 52,
     "metadata": {},
     "output_type": "execute_result"
    }
   ],
   "source": [
    "# create df\n",
    "df = pd.DataFrame(data=class_data)\n",
    "df.head()"
   ]
  },
  {
   "cell_type": "markdown",
   "id": "e12a6149",
   "metadata": {},
   "source": [
    "### Checking for empty cells"
   ]
  },
  {
   "cell_type": "code",
   "execution_count": 36,
   "id": "17d02ade",
   "metadata": {},
   "outputs": [
    {
     "data": {
      "text/plain": [
       "0    False\n",
       "1     True\n",
       "2    False\n",
       "3    False\n",
       "4    False\n",
       "5    False\n",
       "6    False\n",
       "7    False\n",
       "8    False\n",
       "9    False\n",
       "Name: challenge_grades, dtype: bool"
      ]
     },
     "execution_count": 36,
     "metadata": {},
     "output_type": "execute_result"
    }
   ],
   "source": [
    "# Check for nulls\n",
    "df['challenge_grades'].isnull()[0:10]"
   ]
  },
  {
   "cell_type": "code",
   "execution_count": 37,
   "id": "5d9aae30",
   "metadata": {},
   "outputs": [
    {
     "data": {
      "text/plain": [
       "0    False\n",
       "1     True\n",
       "2    False\n",
       "3    False\n",
       "4    False\n",
       "5    False\n",
       "6    False\n",
       "7    False\n",
       "8    False\n",
       "9    False\n",
       "Name: challenge_grades, dtype: bool"
      ]
     },
     "execution_count": 37,
     "metadata": {},
     "output_type": "execute_result"
    }
   ],
   "source": [
    "# Check for nan\n",
    "df['challenge_grades'].isna()[0:10]"
   ]
  },
  {
   "cell_type": "markdown",
   "id": "02114760",
   "metadata": {},
   "source": [
    "### Convert NaN to -99"
   ]
  },
  {
   "cell_type": "code",
   "execution_count": 53,
   "id": "147609c4",
   "metadata": {},
   "outputs": [],
   "source": [
    "df.fillna(-99, inplace=True)"
   ]
  },
  {
   "cell_type": "code",
   "execution_count": 54,
   "id": "1e6c2ab7",
   "metadata": {},
   "outputs": [
    {
     "data": {
      "text/html": [
       "<div>\n",
       "<style scoped>\n",
       "    .dataframe tbody tr th:only-of-type {\n",
       "        vertical-align: middle;\n",
       "    }\n",
       "\n",
       "    .dataframe tbody tr th {\n",
       "        vertical-align: top;\n",
       "    }\n",
       "\n",
       "    .dataframe thead th {\n",
       "        text-align: right;\n",
       "    }\n",
       "</style>\n",
       "<table border=\"1\" class=\"dataframe\">\n",
       "  <thead>\n",
       "    <tr style=\"text-align: right;\">\n",
       "      <th></th>\n",
       "      <th>location</th>\n",
       "      <th>state</th>\n",
       "      <th>name</th>\n",
       "      <th>lastname</th>\n",
       "      <th>challenge_grades</th>\n",
       "      <th>challenge_number</th>\n",
       "    </tr>\n",
       "  </thead>\n",
       "  <tbody>\n",
       "    <tr>\n",
       "      <th>0</th>\n",
       "      <td>Austin</td>\n",
       "      <td>TX</td>\n",
       "      <td>Juan</td>\n",
       "      <td>Martinez</td>\n",
       "      <td>100.0</td>\n",
       "      <td>1</td>\n",
       "    </tr>\n",
       "    <tr>\n",
       "      <th>1</th>\n",
       "      <td>Austin</td>\n",
       "      <td>TX</td>\n",
       "      <td>Ellie</td>\n",
       "      <td>Smith</td>\n",
       "      <td>-99.0</td>\n",
       "      <td>1</td>\n",
       "    </tr>\n",
       "    <tr>\n",
       "      <th>2</th>\n",
       "      <td>San Antonio</td>\n",
       "      <td>TX</td>\n",
       "      <td>George</td>\n",
       "      <td>Garcia</td>\n",
       "      <td>100.0</td>\n",
       "      <td>1</td>\n",
       "    </tr>\n",
       "    <tr>\n",
       "      <th>3</th>\n",
       "      <td>Laredo</td>\n",
       "      <td>TX</td>\n",
       "      <td>Maria</td>\n",
       "      <td>Logit</td>\n",
       "      <td>100.0</td>\n",
       "      <td>1</td>\n",
       "    </tr>\n",
       "    <tr>\n",
       "      <th>4</th>\n",
       "      <td>Dallas</td>\n",
       "      <td>TX</td>\n",
       "      <td>Test</td>\n",
       "      <td>Account</td>\n",
       "      <td>55.0</td>\n",
       "      <td>1</td>\n",
       "    </tr>\n",
       "  </tbody>\n",
       "</table>\n",
       "</div>"
      ],
      "text/plain": [
       "      location state    name  lastname  challenge_grades  challenge_number\n",
       "0       Austin    TX    Juan  Martinez             100.0                 1\n",
       "1       Austin    TX   Ellie     Smith             -99.0                 1\n",
       "2  San Antonio    TX  George    Garcia             100.0                 1\n",
       "3       Laredo    TX   Maria     Logit             100.0                 1\n",
       "4       Dallas    TX    Test   Account              55.0                 1"
      ]
     },
     "execution_count": 54,
     "metadata": {},
     "output_type": "execute_result"
    }
   ],
   "source": [
    "df.head()"
   ]
  },
  {
   "cell_type": "markdown",
   "id": "dacd1164",
   "metadata": {},
   "source": [
    "### Locate all -1s and assign new value"
   ]
  },
  {
   "cell_type": "code",
   "execution_count": 40,
   "id": "255f3a29",
   "metadata": {},
   "outputs": [],
   "source": [
    "# filter_query = df['challenge_grades']==-99\n",
    "# filter_query[0:10]"
   ]
  },
  {
   "cell_type": "code",
   "execution_count": 58,
   "id": "59571f80",
   "metadata": {},
   "outputs": [
    {
     "data": {
      "text/html": [
       "<div>\n",
       "<style scoped>\n",
       "    .dataframe tbody tr th:only-of-type {\n",
       "        vertical-align: middle;\n",
       "    }\n",
       "\n",
       "    .dataframe tbody tr th {\n",
       "        vertical-align: top;\n",
       "    }\n",
       "\n",
       "    .dataframe thead th {\n",
       "        text-align: right;\n",
       "    }\n",
       "</style>\n",
       "<table border=\"1\" class=\"dataframe\">\n",
       "  <thead>\n",
       "    <tr style=\"text-align: right;\">\n",
       "      <th></th>\n",
       "      <th>location</th>\n",
       "      <th>state</th>\n",
       "      <th>name</th>\n",
       "      <th>lastname</th>\n",
       "      <th>challenge_grades</th>\n",
       "      <th>challenge_number</th>\n",
       "    </tr>\n",
       "  </thead>\n",
       "  <tbody>\n",
       "    <tr>\n",
       "      <th>1</th>\n",
       "      <td>Austin</td>\n",
       "      <td>TX</td>\n",
       "      <td>Ellie</td>\n",
       "      <td>Smith</td>\n",
       "      <td>-99.0</td>\n",
       "      <td>1</td>\n",
       "    </tr>\n",
       "    <tr>\n",
       "      <th>13</th>\n",
       "      <td>San Antonio</td>\n",
       "      <td>TX</td>\n",
       "      <td>George</td>\n",
       "      <td>Garcia</td>\n",
       "      <td>-99.0</td>\n",
       "      <td>2</td>\n",
       "    </tr>\n",
       "  </tbody>\n",
       "</table>\n",
       "</div>"
      ],
      "text/plain": [
       "       location state    name lastname  challenge_grades  challenge_number\n",
       "1        Austin    TX   Ellie    Smith             -99.0                 1\n",
       "13  San Antonio    TX  George   Garcia             -99.0                 2"
      ]
     },
     "execution_count": 58,
     "metadata": {},
     "output_type": "execute_result"
    }
   ],
   "source": [
    "# Show records with -99, use filter\n",
    "df.loc[df['challenge_grades']==-99]"
   ]
  },
  {
   "cell_type": "code",
   "execution_count": 56,
   "id": "8467ef16",
   "metadata": {},
   "outputs": [
    {
     "data": {
      "text/html": [
       "<div>\n",
       "<style scoped>\n",
       "    .dataframe tbody tr th:only-of-type {\n",
       "        vertical-align: middle;\n",
       "    }\n",
       "\n",
       "    .dataframe tbody tr th {\n",
       "        vertical-align: top;\n",
       "    }\n",
       "\n",
       "    .dataframe thead th {\n",
       "        text-align: right;\n",
       "    }\n",
       "</style>\n",
       "<table border=\"1\" class=\"dataframe\">\n",
       "  <thead>\n",
       "    <tr style=\"text-align: right;\">\n",
       "      <th></th>\n",
       "      <th>location</th>\n",
       "      <th>state</th>\n",
       "      <th>name</th>\n",
       "      <th>lastname</th>\n",
       "      <th>challenge_grades</th>\n",
       "      <th>challenge_number</th>\n",
       "    </tr>\n",
       "  </thead>\n",
       "  <tbody>\n",
       "    <tr>\n",
       "      <th>1</th>\n",
       "      <td>Austin</td>\n",
       "      <td>TX</td>\n",
       "      <td>Ellie</td>\n",
       "      <td>Smith</td>\n",
       "      <td>-99.0</td>\n",
       "      <td>1</td>\n",
       "    </tr>\n",
       "    <tr>\n",
       "      <th>13</th>\n",
       "      <td>San Antonio</td>\n",
       "      <td>TX</td>\n",
       "      <td>George</td>\n",
       "      <td>Garcia</td>\n",
       "      <td>-99.0</td>\n",
       "      <td>2</td>\n",
       "    </tr>\n",
       "  </tbody>\n",
       "</table>\n",
       "</div>"
      ],
      "text/plain": [
       "       location state    name lastname  challenge_grades  challenge_number\n",
       "1        Austin    TX   Ellie    Smith             -99.0                 1\n",
       "13  San Antonio    TX  George   Garcia             -99.0                 2"
      ]
     },
     "execution_count": 56,
     "metadata": {},
     "output_type": "execute_result"
    }
   ],
   "source": [
    "# Show records with -99, use loc\n",
    "df.loc[[1,13]]"
   ]
  },
  {
   "cell_type": "markdown",
   "id": "6f32bfda",
   "metadata": {},
   "source": [
    "## updating records with loc"
   ]
  },
  {
   "cell_type": "code",
   "execution_count": 59,
   "id": "823ef621",
   "metadata": {},
   "outputs": [
    {
     "data": {
      "text/html": [
       "<div>\n",
       "<style scoped>\n",
       "    .dataframe tbody tr th:only-of-type {\n",
       "        vertical-align: middle;\n",
       "    }\n",
       "\n",
       "    .dataframe tbody tr th {\n",
       "        vertical-align: top;\n",
       "    }\n",
       "\n",
       "    .dataframe thead th {\n",
       "        text-align: right;\n",
       "    }\n",
       "</style>\n",
       "<table border=\"1\" class=\"dataframe\">\n",
       "  <thead>\n",
       "    <tr style=\"text-align: right;\">\n",
       "      <th></th>\n",
       "      <th>location</th>\n",
       "      <th>state</th>\n",
       "      <th>name</th>\n",
       "      <th>lastname</th>\n",
       "      <th>challenge_grades</th>\n",
       "      <th>challenge_number</th>\n",
       "    </tr>\n",
       "  </thead>\n",
       "  <tbody>\n",
       "    <tr>\n",
       "      <th>1</th>\n",
       "      <td>Austin</td>\n",
       "      <td>TX</td>\n",
       "      <td>Ellie</td>\n",
       "      <td>Smith</td>\n",
       "      <td>0.0</td>\n",
       "      <td>1</td>\n",
       "    </tr>\n",
       "    <tr>\n",
       "      <th>13</th>\n",
       "      <td>San Antonio</td>\n",
       "      <td>TX</td>\n",
       "      <td>George</td>\n",
       "      <td>Garcia</td>\n",
       "      <td>0.0</td>\n",
       "      <td>2</td>\n",
       "    </tr>\n",
       "  </tbody>\n",
       "</table>\n",
       "</div>"
      ],
      "text/plain": [
       "       location state    name lastname  challenge_grades  challenge_number\n",
       "1        Austin    TX   Ellie    Smith               0.0                 1\n",
       "13  San Antonio    TX  George   Garcia               0.0                 2"
      ]
     },
     "execution_count": 59,
     "metadata": {},
     "output_type": "execute_result"
    }
   ],
   "source": [
    "# Filter \n",
    "filter_query = df['challenge_grades']==-99\n",
    "# set all records that meet the filter criteria to zero\n",
    "df.loc[filter_query,\"challenge_grades\"] = 0\n",
    "# display \n",
    "df.loc[[1,13]]"
   ]
  },
  {
   "cell_type": "markdown",
   "id": "1504a46b",
   "metadata": {},
   "source": [
    "## Calculate mean"
   ]
  },
  {
   "cell_type": "code",
   "execution_count": null,
   "id": "2de2fe08",
   "metadata": {},
   "outputs": [],
   "source": [
    "df['challenge_grades'].mean()"
   ]
  },
  {
   "cell_type": "code",
   "execution_count": null,
   "id": "d4edff69",
   "metadata": {},
   "outputs": [],
   "source": []
  }
 ],
 "metadata": {
  "kernelspec": {
   "display_name": "Python 3",
   "language": "python",
   "name": "python3"
  },
  "language_info": {
   "codemirror_mode": {
    "name": "ipython",
    "version": 3
   },
   "file_extension": ".py",
   "mimetype": "text/x-python",
   "name": "python",
   "nbconvert_exporter": "python",
   "pygments_lexer": "ipython3",
   "version": "3.7.10"
  }
 },
 "nbformat": 4,
 "nbformat_minor": 5
}

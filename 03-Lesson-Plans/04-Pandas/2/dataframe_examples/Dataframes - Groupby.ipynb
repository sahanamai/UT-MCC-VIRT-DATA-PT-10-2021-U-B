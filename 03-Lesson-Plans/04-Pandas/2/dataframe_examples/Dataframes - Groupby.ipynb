{
 "cells": [
  {
   "cell_type": "markdown",
   "id": "260b9b91",
   "metadata": {},
   "source": [
    "### DataFrame Groupby"
   ]
  },
  {
   "cell_type": "code",
   "execution_count": 33,
   "id": "49299950",
   "metadata": {},
   "outputs": [],
   "source": [
    "import pandas as pd\n",
    "import numpy as np"
   ]
  },
  {
   "cell_type": "code",
   "execution_count": 34,
   "id": "d1610287",
   "metadata": {},
   "outputs": [],
   "source": [
    "# Create lists of lists, grades and number one column\n",
    "location_list = ['Austin','Austin','San Antonio','Laredo','Dallas','El Paso','Chicago','Naperville','Springfield','Miami','Orlando','Austin','Austin','San Antonio','Laredo','Dallas','El Paso','Chicago','Naperville','Springfield','Miami','Orlando','Austin','Austin','San Antonio','Laredo','Dallas','El Paso','Chicago','Naperville','Springfield','Miami','Orlando']\n",
    "state_list = ['TX','TX','TX','TX','TX','TX','IL','IL','IL','FL','FL','TX','TX','TX','TX','TX','TX','IL','IL','IL','FL','FL','TX','TX','TX','TX','TX','TX','IL','IL','IL','FL','FL']\n",
    "name_list = ['Juan','Ellie','George','Maria','Test','Gina','Andrew','Joe','Mary','Tabelon','Wuda','Juan','Ellie','George','Maria','Test','Gina','Andrew','Joe','Mary','Tabelon','Wuda','Juan','Ellie','George','Maria','Test','Gina','Andrew','Joe','Mary','Tabelon','Wuda']\n",
    "lastname_list = ['Martinez','Smith','Garcia','Logit','Account','Perdue','Lablanc','Dile','Smith','Legruti','Jenkins','Martinez','Smith','Garcia','Logit','Account','Perdue','Lablanc','Dile','Smith','Legruti','Jenkins','Martinez','Smith','Garcia','Logit','Account','Perdue','Lablanc','Dile','Smith','Legruti','Jenkins']\n",
    "challenge_grades = [100,88,100,100,55,75,81,77,32,100,30,99.0,95.0,99,100.0,60.0,86.0,83.0,45.0,75.0,95.0,0.0,70.0,100.0,88,100.0,90.0,65,55.0,81.0,99.0,81.0,75.0]\n",
    "challenge_number = [1,1,1,1,1,1,1,1,1,1,1,2,2,2,2,2,2,2,2,2,2,2,3,3,3,3,3,3,3,3,3,3,3]\n",
    "\n",
    "# Create dictionary of lists\n",
    "class_data = { 'location': location_list,\n",
    "               'state': state_list,\n",
    "               'name': name_list,\n",
    "               'lastname': lastname_list,\n",
    "               'challenge_grades': challenge_grades,\n",
    "               'challenge_number': challenge_number}\n",
    "               "
   ]
  },
  {
   "cell_type": "code",
   "execution_count": 35,
   "id": "53c2d680",
   "metadata": {},
   "outputs": [
    {
     "data": {
      "text/html": [
       "<div>\n",
       "<style scoped>\n",
       "    .dataframe tbody tr th:only-of-type {\n",
       "        vertical-align: middle;\n",
       "    }\n",
       "\n",
       "    .dataframe tbody tr th {\n",
       "        vertical-align: top;\n",
       "    }\n",
       "\n",
       "    .dataframe thead th {\n",
       "        text-align: right;\n",
       "    }\n",
       "</style>\n",
       "<table border=\"1\" class=\"dataframe\">\n",
       "  <thead>\n",
       "    <tr style=\"text-align: right;\">\n",
       "      <th></th>\n",
       "      <th>location</th>\n",
       "      <th>state</th>\n",
       "      <th>name</th>\n",
       "      <th>lastname</th>\n",
       "      <th>challenge_grades</th>\n",
       "      <th>challenge_number</th>\n",
       "    </tr>\n",
       "  </thead>\n",
       "  <tbody>\n",
       "    <tr>\n",
       "      <th>0</th>\n",
       "      <td>Austin</td>\n",
       "      <td>TX</td>\n",
       "      <td>Juan</td>\n",
       "      <td>Martinez</td>\n",
       "      <td>100.0</td>\n",
       "      <td>1</td>\n",
       "    </tr>\n",
       "    <tr>\n",
       "      <th>1</th>\n",
       "      <td>Austin</td>\n",
       "      <td>TX</td>\n",
       "      <td>Ellie</td>\n",
       "      <td>Smith</td>\n",
       "      <td>88.0</td>\n",
       "      <td>1</td>\n",
       "    </tr>\n",
       "    <tr>\n",
       "      <th>2</th>\n",
       "      <td>San Antonio</td>\n",
       "      <td>TX</td>\n",
       "      <td>George</td>\n",
       "      <td>Garcia</td>\n",
       "      <td>100.0</td>\n",
       "      <td>1</td>\n",
       "    </tr>\n",
       "    <tr>\n",
       "      <th>3</th>\n",
       "      <td>Laredo</td>\n",
       "      <td>TX</td>\n",
       "      <td>Maria</td>\n",
       "      <td>Logit</td>\n",
       "      <td>100.0</td>\n",
       "      <td>1</td>\n",
       "    </tr>\n",
       "    <tr>\n",
       "      <th>4</th>\n",
       "      <td>Dallas</td>\n",
       "      <td>TX</td>\n",
       "      <td>Test</td>\n",
       "      <td>Account</td>\n",
       "      <td>55.0</td>\n",
       "      <td>1</td>\n",
       "    </tr>\n",
       "    <tr>\n",
       "      <th>5</th>\n",
       "      <td>El Paso</td>\n",
       "      <td>TX</td>\n",
       "      <td>Gina</td>\n",
       "      <td>Perdue</td>\n",
       "      <td>75.0</td>\n",
       "      <td>1</td>\n",
       "    </tr>\n",
       "    <tr>\n",
       "      <th>6</th>\n",
       "      <td>Chicago</td>\n",
       "      <td>IL</td>\n",
       "      <td>Andrew</td>\n",
       "      <td>Lablanc</td>\n",
       "      <td>81.0</td>\n",
       "      <td>1</td>\n",
       "    </tr>\n",
       "    <tr>\n",
       "      <th>7</th>\n",
       "      <td>Naperville</td>\n",
       "      <td>IL</td>\n",
       "      <td>Joe</td>\n",
       "      <td>Dile</td>\n",
       "      <td>77.0</td>\n",
       "      <td>1</td>\n",
       "    </tr>\n",
       "    <tr>\n",
       "      <th>8</th>\n",
       "      <td>Springfield</td>\n",
       "      <td>IL</td>\n",
       "      <td>Mary</td>\n",
       "      <td>Smith</td>\n",
       "      <td>32.0</td>\n",
       "      <td>1</td>\n",
       "    </tr>\n",
       "    <tr>\n",
       "      <th>9</th>\n",
       "      <td>Miami</td>\n",
       "      <td>FL</td>\n",
       "      <td>Tabelon</td>\n",
       "      <td>Legruti</td>\n",
       "      <td>100.0</td>\n",
       "      <td>1</td>\n",
       "    </tr>\n",
       "    <tr>\n",
       "      <th>10</th>\n",
       "      <td>Orlando</td>\n",
       "      <td>FL</td>\n",
       "      <td>Wuda</td>\n",
       "      <td>Jenkins</td>\n",
       "      <td>30.0</td>\n",
       "      <td>1</td>\n",
       "    </tr>\n",
       "    <tr>\n",
       "      <th>11</th>\n",
       "      <td>Austin</td>\n",
       "      <td>TX</td>\n",
       "      <td>Juan</td>\n",
       "      <td>Martinez</td>\n",
       "      <td>99.0</td>\n",
       "      <td>2</td>\n",
       "    </tr>\n",
       "    <tr>\n",
       "      <th>12</th>\n",
       "      <td>Austin</td>\n",
       "      <td>TX</td>\n",
       "      <td>Ellie</td>\n",
       "      <td>Smith</td>\n",
       "      <td>95.0</td>\n",
       "      <td>2</td>\n",
       "    </tr>\n",
       "    <tr>\n",
       "      <th>13</th>\n",
       "      <td>San Antonio</td>\n",
       "      <td>TX</td>\n",
       "      <td>George</td>\n",
       "      <td>Garcia</td>\n",
       "      <td>99.0</td>\n",
       "      <td>2</td>\n",
       "    </tr>\n",
       "    <tr>\n",
       "      <th>14</th>\n",
       "      <td>Laredo</td>\n",
       "      <td>TX</td>\n",
       "      <td>Maria</td>\n",
       "      <td>Logit</td>\n",
       "      <td>100.0</td>\n",
       "      <td>2</td>\n",
       "    </tr>\n",
       "  </tbody>\n",
       "</table>\n",
       "</div>"
      ],
      "text/plain": [
       "       location state     name  lastname  challenge_grades  challenge_number\n",
       "0        Austin    TX     Juan  Martinez             100.0                 1\n",
       "1        Austin    TX    Ellie     Smith              88.0                 1\n",
       "2   San Antonio    TX   George    Garcia             100.0                 1\n",
       "3        Laredo    TX    Maria     Logit             100.0                 1\n",
       "4        Dallas    TX     Test   Account              55.0                 1\n",
       "5       El Paso    TX     Gina    Perdue              75.0                 1\n",
       "6       Chicago    IL   Andrew   Lablanc              81.0                 1\n",
       "7    Naperville    IL      Joe      Dile              77.0                 1\n",
       "8   Springfield    IL     Mary     Smith              32.0                 1\n",
       "9         Miami    FL  Tabelon   Legruti             100.0                 1\n",
       "10      Orlando    FL     Wuda   Jenkins              30.0                 1\n",
       "11       Austin    TX     Juan  Martinez              99.0                 2\n",
       "12       Austin    TX    Ellie     Smith              95.0                 2\n",
       "13  San Antonio    TX   George    Garcia              99.0                 2\n",
       "14       Laredo    TX    Maria     Logit             100.0                 2"
      ]
     },
     "execution_count": 35,
     "metadata": {},
     "output_type": "execute_result"
    }
   ],
   "source": [
    "# create df\n",
    "df = pd.DataFrame(data=class_data)\n",
    "df.head(15)"
   ]
  },
  {
   "cell_type": "markdown",
   "id": "e224b5cf",
   "metadata": {},
   "source": [
    "### Value Counts"
   ]
  },
  {
   "cell_type": "code",
   "execution_count": 48,
   "id": "4ab0f477",
   "metadata": {},
   "outputs": [
    {
     "data": {
      "text/plain": [
       "TX    18\n",
       "IL     9\n",
       "FL     6\n",
       "Name: state, dtype: int64"
      ]
     },
     "execution_count": 48,
     "metadata": {},
     "output_type": "execute_result"
    }
   ],
   "source": [
    "# Get counts by state\n",
    "df['state'].value_counts()"
   ]
  },
  {
   "cell_type": "code",
   "execution_count": 47,
   "id": "997274cd",
   "metadata": {},
   "outputs": [
    {
     "data": {
      "text/plain": [
       "state  location   \n",
       "TX     Austin         6\n",
       "FL     Miami          3\n",
       "       Orlando        3\n",
       "IL     Chicago        3\n",
       "       Naperville     3\n",
       "       Springfield    3\n",
       "TX     Dallas         3\n",
       "       El Paso        3\n",
       "       Laredo         3\n",
       "       San Antonio    3\n",
       "dtype: int64"
      ]
     },
     "execution_count": 47,
     "metadata": {},
     "output_type": "execute_result"
    }
   ],
   "source": [
    "# Get counts by state, location\n",
    "df[['state','location']].value_counts()"
   ]
  },
  {
   "cell_type": "markdown",
   "id": "e12a6149",
   "metadata": {},
   "source": [
    "### Group by state"
   ]
  },
  {
   "cell_type": "code",
   "execution_count": 38,
   "id": "17d02ade",
   "metadata": {},
   "outputs": [
    {
     "data": {
      "text/html": [
       "<div>\n",
       "<style scoped>\n",
       "    .dataframe tbody tr th:only-of-type {\n",
       "        vertical-align: middle;\n",
       "    }\n",
       "\n",
       "    .dataframe tbody tr th {\n",
       "        vertical-align: top;\n",
       "    }\n",
       "\n",
       "    .dataframe thead th {\n",
       "        text-align: right;\n",
       "    }\n",
       "</style>\n",
       "<table border=\"1\" class=\"dataframe\">\n",
       "  <thead>\n",
       "    <tr style=\"text-align: right;\">\n",
       "      <th></th>\n",
       "      <th>location</th>\n",
       "      <th>name</th>\n",
       "      <th>lastname</th>\n",
       "      <th>challenge_grades</th>\n",
       "      <th>challenge_number</th>\n",
       "    </tr>\n",
       "    <tr>\n",
       "      <th>state</th>\n",
       "      <th></th>\n",
       "      <th></th>\n",
       "      <th></th>\n",
       "      <th></th>\n",
       "      <th></th>\n",
       "    </tr>\n",
       "  </thead>\n",
       "  <tbody>\n",
       "    <tr>\n",
       "      <th>FL</th>\n",
       "      <td>6</td>\n",
       "      <td>6</td>\n",
       "      <td>6</td>\n",
       "      <td>6</td>\n",
       "      <td>6</td>\n",
       "    </tr>\n",
       "    <tr>\n",
       "      <th>IL</th>\n",
       "      <td>9</td>\n",
       "      <td>9</td>\n",
       "      <td>9</td>\n",
       "      <td>9</td>\n",
       "      <td>9</td>\n",
       "    </tr>\n",
       "    <tr>\n",
       "      <th>TX</th>\n",
       "      <td>18</td>\n",
       "      <td>18</td>\n",
       "      <td>18</td>\n",
       "      <td>18</td>\n",
       "      <td>18</td>\n",
       "    </tr>\n",
       "  </tbody>\n",
       "</table>\n",
       "</div>"
      ],
      "text/plain": [
       "       location  name  lastname  challenge_grades  challenge_number\n",
       "state                                                              \n",
       "FL            6     6         6                 6                 6\n",
       "IL            9     9         9                 9                 9\n",
       "TX           18    18        18                18                18"
      ]
     },
     "execution_count": 38,
     "metadata": {},
     "output_type": "execute_result"
    }
   ],
   "source": [
    "# Counts by state\n",
    "df.groupby(['state']).count()"
   ]
  },
  {
   "cell_type": "code",
   "execution_count": 39,
   "id": "5d9aae30",
   "metadata": {},
   "outputs": [
    {
     "data": {
      "text/plain": [
       "state\n",
       "FL     6\n",
       "IL     9\n",
       "TX    18\n",
       "Name: location, dtype: int64"
      ]
     },
     "execution_count": 39,
     "metadata": {},
     "output_type": "execute_result"
    }
   ],
   "source": [
    "# Show only one column\n",
    "location_by_count = df.groupby(['state']).count()['location']\n",
    "location_by_count"
   ]
  },
  {
   "cell_type": "markdown",
   "id": "0ef8c9f0",
   "metadata": {},
   "source": [
    "<img src=\"images/groupby.jpg\" alt=\"drawing\" style=\"width:900px;\"/>"
   ]
  },
  {
   "cell_type": "markdown",
   "id": "02114760",
   "metadata": {},
   "source": [
    "### Group by multiple columns"
   ]
  },
  {
   "cell_type": "code",
   "execution_count": 40,
   "id": "147609c4",
   "metadata": {},
   "outputs": [
    {
     "data": {
      "text/plain": [
       "state  location   \n",
       "FL     Miami          3\n",
       "       Orlando        3\n",
       "IL     Chicago        3\n",
       "       Naperville     3\n",
       "       Springfield    3\n",
       "TX     Austin         6\n",
       "       Dallas         3\n",
       "       El Paso        3\n",
       "       Laredo         3\n",
       "       San Antonio    3\n",
       "Name: challenge_grades, dtype: int64"
      ]
     },
     "execution_count": 40,
     "metadata": {},
     "output_type": "execute_result"
    }
   ],
   "source": [
    "# Get count by state, location\n",
    "df.groupby(['state','location'])['challenge_grades'].count()"
   ]
  },
  {
   "cell_type": "code",
   "execution_count": 41,
   "id": "3bbc69b0",
   "metadata": {},
   "outputs": [
    {
     "data": {
      "text/plain": [
       "state  location   \n",
       "FL     Miami           92.000000\n",
       "       Orlando         35.000000\n",
       "IL     Chicago         73.000000\n",
       "       Naperville      67.666667\n",
       "       Springfield     68.666667\n",
       "TX     Austin          92.000000\n",
       "       Dallas          68.333333\n",
       "       El Paso         75.333333\n",
       "       Laredo         100.000000\n",
       "       San Antonio     95.666667\n",
       "Name: challenge_grades, dtype: float64"
      ]
     },
     "execution_count": 41,
     "metadata": {},
     "output_type": "execute_result"
    }
   ],
   "source": [
    "# Get mean score by state, location\n",
    "df.groupby(['state','location'])['challenge_grades'].mean()"
   ]
  },
  {
   "cell_type": "code",
   "execution_count": 44,
   "id": "44f23ea9",
   "metadata": {},
   "outputs": [
    {
     "data": {
      "text/html": [
       "<div>\n",
       "<style scoped>\n",
       "    .dataframe tbody tr th:only-of-type {\n",
       "        vertical-align: middle;\n",
       "    }\n",
       "\n",
       "    .dataframe tbody tr th {\n",
       "        vertical-align: top;\n",
       "    }\n",
       "\n",
       "    .dataframe thead th {\n",
       "        text-align: right;\n",
       "    }\n",
       "</style>\n",
       "<table border=\"1\" class=\"dataframe\">\n",
       "  <thead>\n",
       "    <tr style=\"text-align: right;\">\n",
       "      <th></th>\n",
       "      <th></th>\n",
       "      <th></th>\n",
       "      <th>max</th>\n",
       "      <th>min</th>\n",
       "      <th>mean</th>\n",
       "      <th>count</th>\n",
       "    </tr>\n",
       "    <tr>\n",
       "      <th>state</th>\n",
       "      <th>location</th>\n",
       "      <th>name</th>\n",
       "      <th></th>\n",
       "      <th></th>\n",
       "      <th></th>\n",
       "      <th></th>\n",
       "    </tr>\n",
       "  </thead>\n",
       "  <tbody>\n",
       "    <tr>\n",
       "      <th rowspan=\"2\" valign=\"top\">FL</th>\n",
       "      <th>Miami</th>\n",
       "      <th>Tabelon</th>\n",
       "      <td>100.0</td>\n",
       "      <td>81.0</td>\n",
       "      <td>92.000000</td>\n",
       "      <td>3</td>\n",
       "    </tr>\n",
       "    <tr>\n",
       "      <th>Orlando</th>\n",
       "      <th>Wuda</th>\n",
       "      <td>75.0</td>\n",
       "      <td>0.0</td>\n",
       "      <td>35.000000</td>\n",
       "      <td>3</td>\n",
       "    </tr>\n",
       "    <tr>\n",
       "      <th rowspan=\"3\" valign=\"top\">IL</th>\n",
       "      <th>Chicago</th>\n",
       "      <th>Andrew</th>\n",
       "      <td>83.0</td>\n",
       "      <td>55.0</td>\n",
       "      <td>73.000000</td>\n",
       "      <td>3</td>\n",
       "    </tr>\n",
       "    <tr>\n",
       "      <th>Naperville</th>\n",
       "      <th>Joe</th>\n",
       "      <td>81.0</td>\n",
       "      <td>45.0</td>\n",
       "      <td>67.666667</td>\n",
       "      <td>3</td>\n",
       "    </tr>\n",
       "    <tr>\n",
       "      <th>Springfield</th>\n",
       "      <th>Mary</th>\n",
       "      <td>99.0</td>\n",
       "      <td>32.0</td>\n",
       "      <td>68.666667</td>\n",
       "      <td>3</td>\n",
       "    </tr>\n",
       "    <tr>\n",
       "      <th rowspan=\"6\" valign=\"top\">TX</th>\n",
       "      <th rowspan=\"2\" valign=\"top\">Austin</th>\n",
       "      <th>Ellie</th>\n",
       "      <td>100.0</td>\n",
       "      <td>88.0</td>\n",
       "      <td>94.333333</td>\n",
       "      <td>3</td>\n",
       "    </tr>\n",
       "    <tr>\n",
       "      <th>Juan</th>\n",
       "      <td>100.0</td>\n",
       "      <td>70.0</td>\n",
       "      <td>89.666667</td>\n",
       "      <td>3</td>\n",
       "    </tr>\n",
       "    <tr>\n",
       "      <th>Dallas</th>\n",
       "      <th>Test</th>\n",
       "      <td>90.0</td>\n",
       "      <td>55.0</td>\n",
       "      <td>68.333333</td>\n",
       "      <td>3</td>\n",
       "    </tr>\n",
       "    <tr>\n",
       "      <th>El Paso</th>\n",
       "      <th>Gina</th>\n",
       "      <td>86.0</td>\n",
       "      <td>65.0</td>\n",
       "      <td>75.333333</td>\n",
       "      <td>3</td>\n",
       "    </tr>\n",
       "    <tr>\n",
       "      <th>Laredo</th>\n",
       "      <th>Maria</th>\n",
       "      <td>100.0</td>\n",
       "      <td>100.0</td>\n",
       "      <td>100.000000</td>\n",
       "      <td>3</td>\n",
       "    </tr>\n",
       "    <tr>\n",
       "      <th>San Antonio</th>\n",
       "      <th>George</th>\n",
       "      <td>100.0</td>\n",
       "      <td>88.0</td>\n",
       "      <td>95.666667</td>\n",
       "      <td>3</td>\n",
       "    </tr>\n",
       "  </tbody>\n",
       "</table>\n",
       "</div>"
      ],
      "text/plain": [
       "                             max    min        mean  count\n",
       "state location    name                                    \n",
       "FL    Miami       Tabelon  100.0   81.0   92.000000      3\n",
       "      Orlando     Wuda      75.0    0.0   35.000000      3\n",
       "IL    Chicago     Andrew    83.0   55.0   73.000000      3\n",
       "      Naperville  Joe       81.0   45.0   67.666667      3\n",
       "      Springfield Mary      99.0   32.0   68.666667      3\n",
       "TX    Austin      Ellie    100.0   88.0   94.333333      3\n",
       "                  Juan     100.0   70.0   89.666667      3\n",
       "      Dallas      Test      90.0   55.0   68.333333      3\n",
       "      El Paso     Gina      86.0   65.0   75.333333      3\n",
       "      Laredo      Maria    100.0  100.0  100.000000      3\n",
       "      San Antonio George   100.0   88.0   95.666667      3"
      ]
     },
     "execution_count": 44,
     "metadata": {},
     "output_type": "execute_result"
    }
   ],
   "source": [
    "# Get mean score by state, location\n",
    "df.groupby(['state','location','name'])['challenge_grades'].agg([\"max\", \"min\", \"mean\", \"count\"])"
   ]
  }
 ],
 "metadata": {
  "kernelspec": {
   "display_name": "Python 3",
   "language": "python",
   "name": "python3"
  },
  "language_info": {
   "codemirror_mode": {
    "name": "ipython",
    "version": 3
   },
   "file_extension": ".py",
   "mimetype": "text/x-python",
   "name": "python",
   "nbconvert_exporter": "python",
   "pygments_lexer": "ipython3",
   "version": "3.7.10"
  }
 },
 "nbformat": 4,
 "nbformat_minor": 5
}

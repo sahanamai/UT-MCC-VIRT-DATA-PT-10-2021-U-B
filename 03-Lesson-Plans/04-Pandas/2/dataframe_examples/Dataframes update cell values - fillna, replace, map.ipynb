{
 "cells": [
  {
   "cell_type": "markdown",
   "id": "260b9b91",
   "metadata": {},
   "source": [
    "### Creating dataframes"
   ]
  },
  {
   "cell_type": "code",
   "execution_count": null,
   "id": "49299950",
   "metadata": {},
   "outputs": [],
   "source": [
    "import pandas as pd\n",
    "import numpy as np"
   ]
  },
  {
   "cell_type": "code",
   "execution_count": null,
   "id": "d1610287",
   "metadata": {},
   "outputs": [],
   "source": [
    "# Create lists of lists, grades and number one column\n",
    "location_list = ['Austin','Austin','San Antonio','Laredo','Dallas','El Paso','Chicago','Naperville','Springfield','Miami','Orlando','Austin','Austin','San Antonio','Laredo','Dallas','El Paso','Chicago','Naperville','Springfield','Miami','Orlando','Austin','Austin','San Antonio','Laredo','Dallas','El Paso','Chicago','Naperville','Springfield','Miami','Orlando']\n",
    "state_list = ['TX','TXX','TX','TX','TX','TX','IL','IL','IL','FL','FL','TX','TX','TX','TX','TX','TX','IL','IL','IL','FL','FL','TX','TX','TX','TX','TX','TX','IL','IL','IL','FL','FL']\n",
    "name_list = ['Juan','Ellie','George','Maria','Test','Gina','Andrew','Joe','Mary','Tabelon','Wuda','Juan','Ellie','George','Maria','Test','Gina','Andrew','Joe','Mary','Tabelon','Wuda','Juan','Ellie','George','Maria','Test','Gina','Andrew','Joe','Mary','Tabelon','Wuda']\n",
    "lastname_list = ['Martinez','Smith','Garcia','Logit','Account','Perdue','Lablanc','Dile','Smith','Legruti','Jenkins','Martinez','Smith','Garcia','Logit','Account','Perdue','Lablanc','Dile','Smith','Legruti','Jenkins','Martinez','Smith','Garcia','Logit','Account','Perdue','Lablanc','Dile','Smith','Legruti','Jenkins']\n",
    "challenge_grades = [100,88,100,100,55,75,81,77,32,100,30,99.0,95.0,np.nan,100.0,60.0,86.0,83.0,45.0,75.0,95.0,0.0,70.0,100.0,np.nan,100.0,90.0,np.nan,55.0,81.0,99.0,81.0,75.0]\n",
    "challenge_number = [1,1,1,1,1,1,1,1,1,1,1,2,2,2,2,2,2,2,2,2,2,2,3,3,3,3,3,3,3,3,3,3,3]\n",
    "\n",
    "# Create dictionary of lists\n",
    "class_data = { 'location': location_list,\n",
    "               'state': state_list,\n",
    "               'name': name_list,\n",
    "               'lastname': lastname_list,\n",
    "               'challenge_grades': challenge_grades,\n",
    "               'challenge_number': challenge_number}\n",
    "               "
   ]
  },
  {
   "cell_type": "code",
   "execution_count": null,
   "id": "53c2d680",
   "metadata": {},
   "outputs": [],
   "source": [
    "# create df\n",
    "# columns_to_create = ['location','state','name','lastname','challenge_grades','challenge_two_grade','challenge_three_grade']\n",
    "df = pd.DataFrame(data=class_data)\n",
    "df.sort_values(by=[\"name\",\"challenge_number\"])"
   ]
  },
  {
   "cell_type": "code",
   "execution_count": null,
   "id": "17d02ade",
   "metadata": {},
   "outputs": [],
   "source": [
    "# count of rows with records\n",
    "df['challenge_grades'].count()"
   ]
  },
  {
   "cell_type": "code",
   "execution_count": null,
   "id": "147609c4",
   "metadata": {},
   "outputs": [],
   "source": [
    "# Number of records\n",
    "len(df['challenge_grades'])"
   ]
  },
  {
   "cell_type": "code",
   "execution_count": null,
   "id": "9e06cf13",
   "metadata": {},
   "outputs": [],
   "source": [
    "df['challenge_grades'].value_counts()"
   ]
  },
  {
   "cell_type": "code",
   "execution_count": null,
   "id": "4b6e53bb",
   "metadata": {},
   "outputs": [],
   "source": [
    "df['challenge_grades'].fillna(17)"
   ]
  },
  {
   "cell_type": "code",
   "execution_count": null,
   "id": "58d3b8bb",
   "metadata": {},
   "outputs": [],
   "source": [
    "df['challenge_grades'].fillna(0, inplace=True)"
   ]
  },
  {
   "cell_type": "code",
   "execution_count": null,
   "id": "8a626228",
   "metadata": {},
   "outputs": [],
   "source": [
    "df2 = df.copy()"
   ]
  },
  {
   "cell_type": "code",
   "execution_count": null,
   "id": "e43808cb",
   "metadata": {},
   "outputs": [],
   "source": [
    "df2.head()"
   ]
  },
  {
   "cell_type": "markdown",
   "id": "b3ff0c43",
   "metadata": {},
   "source": [
    "### Use Map to transform values in cells"
   ]
  },
  {
   "cell_type": "code",
   "execution_count": null,
   "id": "9aa7998c",
   "metadata": {},
   "outputs": [],
   "source": [
    "# Apply map to challenge number\n",
    "# change 1 to 'One', and 2 to 'Two'\n",
    "df2['challenge_number'].map({1:'One', 2:'Two'})"
   ]
  },
  {
   "cell_type": "markdown",
   "id": "3ffcfad1",
   "metadata": {},
   "source": [
    "### Use replace to transform values in cells"
   ]
  },
  {
   "cell_type": "code",
   "execution_count": null,
   "id": "40b5749f",
   "metadata": {},
   "outputs": [],
   "source": [
    "# Apply map to challenge number\n",
    "# change 1 to 'One', and 2 to 'Two'\n",
    "df2['challenge_number'].replace({1:'One', 2:'Two'})"
   ]
  },
  {
   "cell_type": "code",
   "execution_count": null,
   "id": "6ec5e9c5",
   "metadata": {},
   "outputs": [],
   "source": [
    "# Fix TXX mispelling\n",
    "df2.replace({'TXX':'TX'})"
   ]
  },
  {
   "cell_type": "code",
   "execution_count": null,
   "id": "1c12d728",
   "metadata": {},
   "outputs": [],
   "source": []
  }
 ],
 "metadata": {
  "kernelspec": {
   "display_name": "Python 3",
   "language": "python",
   "name": "python3"
  },
  "language_info": {
   "codemirror_mode": {
    "name": "ipython",
    "version": 3
   },
   "file_extension": ".py",
   "mimetype": "text/x-python",
   "name": "python",
   "nbconvert_exporter": "python",
   "pygments_lexer": "ipython3",
   "version": "3.7.10"
  }
 },
 "nbformat": 4,
 "nbformat_minor": 5
}

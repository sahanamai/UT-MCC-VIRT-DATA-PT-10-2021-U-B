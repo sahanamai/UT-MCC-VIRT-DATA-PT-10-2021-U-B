{
 "cells": [
  {
   "cell_type": "code",
   "execution_count": 9,
   "id": "e9539861",
   "metadata": {},
   "outputs": [],
   "source": [
    "from tqdm import tqdm\n",
    "import time"
   ]
  },
  {
   "cell_type": "code",
   "execution_count": 17,
   "id": "0cf803e7",
   "metadata": {},
   "outputs": [
    {
     "name": "stderr",
     "output_type": "stream",
     "text": [
      "14it [00:14,  1.01s/it]                                                                                                \n"
     ]
    }
   ],
   "source": [
    "for i in tqdm([\"a\",1,2,3,4,5,6,7,8,9,10,11,12,13], total=10):\n",
    "    time.sleep(1)\n",
    "    #print(f\"Hello:{i}\")"
   ]
  },
  {
   "cell_type": "code",
   "execution_count": null,
   "id": "b831577e",
   "metadata": {},
   "outputs": [],
   "source": []
  }
 ],
 "metadata": {
  "kernelspec": {
   "display_name": "PythonData",
   "language": "python",
   "name": "pythondata"
  },
  "language_info": {
   "codemirror_mode": {
    "name": "ipython",
    "version": 3
   },
   "file_extension": ".py",
   "mimetype": "text/x-python",
   "name": "python",
   "nbconvert_exporter": "python",
   "pygments_lexer": "ipython3",
   "version": "3.7.10"
  }
 },
 "nbformat": 4,
 "nbformat_minor": 5
}

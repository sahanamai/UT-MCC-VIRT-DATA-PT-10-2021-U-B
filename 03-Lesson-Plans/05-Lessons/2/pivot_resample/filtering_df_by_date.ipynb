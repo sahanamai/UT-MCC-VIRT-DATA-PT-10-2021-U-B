{
 "cells": [
  {
   "cell_type": "code",
   "execution_count": 4,
   "id": "6409612f",
   "metadata": {},
   "outputs": [],
   "source": [
    "import pandas as pd\n",
    "import numpy as np\n",
    "from datetime import datetime, timedelta\n",
    "import random"
   ]
  },
  {
   "cell_type": "markdown",
   "id": "d2f1f183",
   "metadata": {},
   "source": [
    "### Create Data"
   ]
  },
  {
   "cell_type": "code",
   "execution_count": 5,
   "id": "f2ec8dd1",
   "metadata": {},
   "outputs": [
    {
     "data": {
      "text/html": [
       "<div>\n",
       "<style scoped>\n",
       "    .dataframe tbody tr th:only-of-type {\n",
       "        vertical-align: middle;\n",
       "    }\n",
       "\n",
       "    .dataframe tbody tr th {\n",
       "        vertical-align: top;\n",
       "    }\n",
       "\n",
       "    .dataframe thead th {\n",
       "        text-align: right;\n",
       "    }\n",
       "</style>\n",
       "<table border=\"1\" class=\"dataframe\">\n",
       "  <thead>\n",
       "    <tr style=\"text-align: right;\">\n",
       "      <th></th>\n",
       "      <th>location</th>\n",
       "      <th>state</th>\n",
       "      <th>name</th>\n",
       "      <th>lastname</th>\n",
       "      <th>challenge_grades</th>\n",
       "      <th>challenge_number</th>\n",
       "    </tr>\n",
       "  </thead>\n",
       "  <tbody>\n",
       "    <tr>\n",
       "      <th>6</th>\n",
       "      <td>Chicago</td>\n",
       "      <td>IL</td>\n",
       "      <td>Andrew</td>\n",
       "      <td>Lablanc</td>\n",
       "      <td>81</td>\n",
       "      <td>1</td>\n",
       "    </tr>\n",
       "    <tr>\n",
       "      <th>17</th>\n",
       "      <td>Chicago</td>\n",
       "      <td>IL</td>\n",
       "      <td>Andrew</td>\n",
       "      <td>Lablanc</td>\n",
       "      <td>83</td>\n",
       "      <td>2</td>\n",
       "    </tr>\n",
       "    <tr>\n",
       "      <th>28</th>\n",
       "      <td>Chicago</td>\n",
       "      <td>IL</td>\n",
       "      <td>Andrew</td>\n",
       "      <td>Lablanc</td>\n",
       "      <td>55</td>\n",
       "      <td>3</td>\n",
       "    </tr>\n",
       "    <tr>\n",
       "      <th>1</th>\n",
       "      <td>Austin</td>\n",
       "      <td>TX</td>\n",
       "      <td>Ellie</td>\n",
       "      <td>Smith</td>\n",
       "      <td>88</td>\n",
       "      <td>1</td>\n",
       "    </tr>\n",
       "    <tr>\n",
       "      <th>12</th>\n",
       "      <td>Austin</td>\n",
       "      <td>TX</td>\n",
       "      <td>Ellie</td>\n",
       "      <td>Smith</td>\n",
       "      <td>95</td>\n",
       "      <td>2</td>\n",
       "    </tr>\n",
       "  </tbody>\n",
       "</table>\n",
       "</div>"
      ],
      "text/plain": [
       "   location state    name lastname  challenge_grades  challenge_number\n",
       "6   Chicago    IL  Andrew  Lablanc                81                 1\n",
       "17  Chicago    IL  Andrew  Lablanc                83                 2\n",
       "28  Chicago    IL  Andrew  Lablanc                55                 3\n",
       "1    Austin    TX   Ellie    Smith                88                 1\n",
       "12   Austin    TX   Ellie    Smith                95                 2"
      ]
     },
     "execution_count": 5,
     "metadata": {},
     "output_type": "execute_result"
    }
   ],
   "source": [
    "# Create lists of lists, grades and number one column\n",
    "location_list = ['Austin','Austin','San Antonio','Laredo','Dallas','El Paso','Chicago','Naperville','Springfield','Miami','Orlando','Austin','Austin','San Antonio','Laredo','Dallas','El Paso','Chicago','Naperville','Springfield','Miami','Orlando','Austin','Austin','San Antonio','Laredo','Dallas','El Paso','Chicago','Naperville','Springfield','Miami','Orlando']\n",
    "state_list = ['TX','TX','TX','TX','TX','TX','IL','IL','IL','FL','FL','TX','TX','TX','TX','TX','TX','IL','IL','IL','FL','FL','TX','TX','TX','TX','TX','TX','IL','IL','IL','FL','FL']\n",
    "name_list = ['Juan','Ellie','George','Maria','Test','Gina','Andrew','Joe','Mary','Tabelon','Wuda','Juan','Ellie','George','Maria','Test','Gina','Andrew','Joe','Mary','Tabelon','Wuda','Juan','Ellie','George','Maria','Test','Gina','Andrew','Joe','Mary','Tabelon','Wuda']\n",
    "lastname_list = ['Martinez','Smith','Garcia','Logit','Account','Perdue','Lablanc','Dile','Smith','Legruti','Jenkins','Martinez','Smith','Garcia','Logit','Account','Perdue','Lablanc','Dile','Smith','Legruti','Jenkins','Martinez','Smith','Garcia','Logit','Account','Perdue','Lablanc','Dile','Smith','Legruti','Jenkins']\n",
    "challenge_grades = [100,88,100,100,55,75,81,77,32,100,30,99,95,66,100,60,86,83,45,75,95,0,70,100,83,100,90,65,55,81,99,81,75]\n",
    "challenge_number = [1,1,1,1,1,1,1,1,1,1,1,2,2,2,2,2,2,2,2,2,2,2,3,3,3,3,3,3,3,3,3,3,3]\n",
    "\n",
    "# Create dictionary of lists\n",
    "class_data = { 'location': location_list,\n",
    "               'state': state_list,\n",
    "               'name': name_list,\n",
    "               'lastname': lastname_list,\n",
    "               'challenge_grades': challenge_grades,\n",
    "               'challenge_number': challenge_number\n",
    "             }\n",
    "\n",
    "# create df\n",
    "df = pd.DataFrame(data=class_data)\n",
    "df.sort_values(by=[\"name\",\"challenge_number\"]).head(5)"
   ]
  },
  {
   "cell_type": "code",
   "execution_count": 6,
   "id": "61f015b3",
   "metadata": {},
   "outputs": [],
   "source": [
    "# Utility function to generate random date\n",
    "def generate_random_date():\n",
    "    \"\"\"Return random date between start_date and end_date\"\"\"\n",
    "    # First class\n",
    "    start_date = datetime(2021, 10, 19)\n",
    "    # Current class\n",
    "    end_date = datetime(2021, 11, 18)\n",
    "    # Calculate days between dates\n",
    "    time_between_dates = end_date - start_date\n",
    "    days_between_dates = time_between_dates.days\n",
    "    # Generate random number of days between those two dates\n",
    "    random_number_of_days = random.randrange(days_between_dates)    \n",
    "    # Use delta function to add date to start_date\n",
    "    random_date = start_date + timedelta(days=random_number_of_days)\n",
    "    return random_date\n"
   ]
  },
  {
   "cell_type": "code",
   "execution_count": 20,
   "id": "a862505b",
   "metadata": {},
   "outputs": [
    {
     "data": {
      "text/plain": [
       "datetime.datetime(2021, 11, 4, 0, 0)"
      ]
     },
     "execution_count": 20,
     "metadata": {},
     "output_type": "execute_result"
    }
   ],
   "source": [
    "generate_random_date()"
   ]
  },
  {
   "cell_type": "markdown",
   "id": "786f79ed",
   "metadata": {},
   "source": [
    "For each record, generate a random submission date"
   ]
  },
  {
   "cell_type": "code",
   "execution_count": 8,
   "id": "1abdad45",
   "metadata": {},
   "outputs": [],
   "source": [
    "# Generate random submission date\n",
    "df['submission_date'] = [generate_random_date() for n in range(len(df))]\n",
    "# Create day of the week based on submission_date\n",
    "df['day_of_week'] = df['submission_date'].dt.day_name()"
   ]
  },
  {
   "cell_type": "code",
   "execution_count": 22,
   "id": "63d0a2a3",
   "metadata": {},
   "outputs": [
    {
     "data": {
      "text/html": [
       "<div>\n",
       "<style scoped>\n",
       "    .dataframe tbody tr th:only-of-type {\n",
       "        vertical-align: middle;\n",
       "    }\n",
       "\n",
       "    .dataframe tbody tr th {\n",
       "        vertical-align: top;\n",
       "    }\n",
       "\n",
       "    .dataframe thead th {\n",
       "        text-align: right;\n",
       "    }\n",
       "</style>\n",
       "<table border=\"1\" class=\"dataframe\">\n",
       "  <thead>\n",
       "    <tr style=\"text-align: right;\">\n",
       "      <th></th>\n",
       "      <th>location</th>\n",
       "      <th>state</th>\n",
       "      <th>name</th>\n",
       "      <th>lastname</th>\n",
       "      <th>challenge_grades</th>\n",
       "      <th>challenge_number</th>\n",
       "      <th>submission_date</th>\n",
       "      <th>day_of_week</th>\n",
       "    </tr>\n",
       "  </thead>\n",
       "  <tbody>\n",
       "    <tr>\n",
       "      <th>0</th>\n",
       "      <td>Austin</td>\n",
       "      <td>TX</td>\n",
       "      <td>Juan</td>\n",
       "      <td>Martinez</td>\n",
       "      <td>100</td>\n",
       "      <td>1</td>\n",
       "      <td>2021-10-22</td>\n",
       "      <td>Friday</td>\n",
       "    </tr>\n",
       "    <tr>\n",
       "      <th>1</th>\n",
       "      <td>Austin</td>\n",
       "      <td>TX</td>\n",
       "      <td>Ellie</td>\n",
       "      <td>Smith</td>\n",
       "      <td>88</td>\n",
       "      <td>1</td>\n",
       "      <td>2021-10-29</td>\n",
       "      <td>Friday</td>\n",
       "    </tr>\n",
       "    <tr>\n",
       "      <th>2</th>\n",
       "      <td>San Antonio</td>\n",
       "      <td>TX</td>\n",
       "      <td>George</td>\n",
       "      <td>Garcia</td>\n",
       "      <td>100</td>\n",
       "      <td>1</td>\n",
       "      <td>2021-11-04</td>\n",
       "      <td>Thursday</td>\n",
       "    </tr>\n",
       "    <tr>\n",
       "      <th>3</th>\n",
       "      <td>Laredo</td>\n",
       "      <td>TX</td>\n",
       "      <td>Maria</td>\n",
       "      <td>Logit</td>\n",
       "      <td>100</td>\n",
       "      <td>1</td>\n",
       "      <td>2021-10-27</td>\n",
       "      <td>Wednesday</td>\n",
       "    </tr>\n",
       "    <tr>\n",
       "      <th>4</th>\n",
       "      <td>Dallas</td>\n",
       "      <td>TX</td>\n",
       "      <td>Test</td>\n",
       "      <td>Account</td>\n",
       "      <td>55</td>\n",
       "      <td>1</td>\n",
       "      <td>2021-11-08</td>\n",
       "      <td>Monday</td>\n",
       "    </tr>\n",
       "  </tbody>\n",
       "</table>\n",
       "</div>"
      ],
      "text/plain": [
       "      location state    name  lastname  challenge_grades  challenge_number  \\\n",
       "0       Austin    TX    Juan  Martinez               100                 1   \n",
       "1       Austin    TX   Ellie     Smith                88                 1   \n",
       "2  San Antonio    TX  George    Garcia               100                 1   \n",
       "3       Laredo    TX   Maria     Logit               100                 1   \n",
       "4       Dallas    TX    Test   Account                55                 1   \n",
       "\n",
       "  submission_date day_of_week  \n",
       "0      2021-10-22      Friday  \n",
       "1      2021-10-29      Friday  \n",
       "2      2021-11-04    Thursday  \n",
       "3      2021-10-27   Wednesday  \n",
       "4      2021-11-08      Monday  "
      ]
     },
     "execution_count": 22,
     "metadata": {},
     "output_type": "execute_result"
    }
   ],
   "source": [
    "df.head()"
   ]
  },
  {
   "cell_type": "code",
   "execution_count": 24,
   "id": "ee2ccab5",
   "metadata": {},
   "outputs": [
    {
     "data": {
      "text/plain": [
       "location                    object\n",
       "state                       object\n",
       "name                        object\n",
       "lastname                    object\n",
       "challenge_grades             int64\n",
       "challenge_number             int64\n",
       "submission_date     datetime64[ns]\n",
       "day_of_week                 object\n",
       "dtype: object"
      ]
     },
     "execution_count": 24,
     "metadata": {},
     "output_type": "execute_result"
    }
   ],
   "source": [
    "df.dtypes"
   ]
  },
  {
   "cell_type": "code",
   "execution_count": 10,
   "id": "3e1a01bf",
   "metadata": {},
   "outputs": [
    {
     "data": {
      "text/plain": [
       "Timestamp('2021-10-19 00:00:00')"
      ]
     },
     "execution_count": 10,
     "metadata": {},
     "output_type": "execute_result"
    }
   ],
   "source": [
    "# Find earliest submission date\n",
    "df['submission_date'].min()"
   ]
  },
  {
   "cell_type": "code",
   "execution_count": 11,
   "id": "dcfeee47",
   "metadata": {},
   "outputs": [
    {
     "data": {
      "text/plain": [
       "Timestamp('2021-11-14 00:00:00')"
      ]
     },
     "execution_count": 11,
     "metadata": {},
     "output_type": "execute_result"
    }
   ],
   "source": [
    "# Find latest submission date\n",
    "df['submission_date'].max()"
   ]
  },
  {
   "cell_type": "code",
   "execution_count": 12,
   "id": "7f298251",
   "metadata": {},
   "outputs": [
    {
     "data": {
      "text/plain": [
       "Timedelta('26 days 00:00:00')"
      ]
     },
     "execution_count": 12,
     "metadata": {},
     "output_type": "execute_result"
    }
   ],
   "source": [
    "# Number of days between earliest and latest\n",
    "df['submission_date'].max() - df['submission_date'].min() "
   ]
  },
  {
   "cell_type": "markdown",
   "id": "3761f45a",
   "metadata": {},
   "source": [
    "#### Filter using str dates"
   ]
  },
  {
   "cell_type": "code",
   "execution_count": 26,
   "id": "33c7e8fc",
   "metadata": {},
   "outputs": [
    {
     "name": "stdout",
     "output_type": "stream",
     "text": [
      "Number of records:18\n"
     ]
    },
    {
     "data": {
      "text/html": [
       "<div>\n",
       "<style scoped>\n",
       "    .dataframe tbody tr th:only-of-type {\n",
       "        vertical-align: middle;\n",
       "    }\n",
       "\n",
       "    .dataframe tbody tr th {\n",
       "        vertical-align: top;\n",
       "    }\n",
       "\n",
       "    .dataframe thead th {\n",
       "        text-align: right;\n",
       "    }\n",
       "</style>\n",
       "<table border=\"1\" class=\"dataframe\">\n",
       "  <thead>\n",
       "    <tr style=\"text-align: right;\">\n",
       "      <th></th>\n",
       "      <th>location</th>\n",
       "      <th>state</th>\n",
       "      <th>name</th>\n",
       "      <th>lastname</th>\n",
       "      <th>challenge_grades</th>\n",
       "      <th>challenge_number</th>\n",
       "      <th>submission_date</th>\n",
       "      <th>day_of_week</th>\n",
       "    </tr>\n",
       "  </thead>\n",
       "  <tbody>\n",
       "    <tr>\n",
       "      <th>2</th>\n",
       "      <td>San Antonio</td>\n",
       "      <td>TX</td>\n",
       "      <td>George</td>\n",
       "      <td>Garcia</td>\n",
       "      <td>100</td>\n",
       "      <td>1</td>\n",
       "      <td>2021-11-04</td>\n",
       "      <td>Thursday</td>\n",
       "    </tr>\n",
       "    <tr>\n",
       "      <th>4</th>\n",
       "      <td>Dallas</td>\n",
       "      <td>TX</td>\n",
       "      <td>Test</td>\n",
       "      <td>Account</td>\n",
       "      <td>55</td>\n",
       "      <td>1</td>\n",
       "      <td>2021-11-08</td>\n",
       "      <td>Monday</td>\n",
       "    </tr>\n",
       "    <tr>\n",
       "      <th>6</th>\n",
       "      <td>Chicago</td>\n",
       "      <td>IL</td>\n",
       "      <td>Andrew</td>\n",
       "      <td>Lablanc</td>\n",
       "      <td>81</td>\n",
       "      <td>1</td>\n",
       "      <td>2021-11-12</td>\n",
       "      <td>Friday</td>\n",
       "    </tr>\n",
       "    <tr>\n",
       "      <th>8</th>\n",
       "      <td>Springfield</td>\n",
       "      <td>IL</td>\n",
       "      <td>Mary</td>\n",
       "      <td>Smith</td>\n",
       "      <td>32</td>\n",
       "      <td>1</td>\n",
       "      <td>2021-11-07</td>\n",
       "      <td>Sunday</td>\n",
       "    </tr>\n",
       "    <tr>\n",
       "      <th>11</th>\n",
       "      <td>Austin</td>\n",
       "      <td>TX</td>\n",
       "      <td>Juan</td>\n",
       "      <td>Martinez</td>\n",
       "      <td>99</td>\n",
       "      <td>2</td>\n",
       "      <td>2021-11-11</td>\n",
       "      <td>Thursday</td>\n",
       "    </tr>\n",
       "  </tbody>\n",
       "</table>\n",
       "</div>"
      ],
      "text/plain": [
       "       location state    name  lastname  challenge_grades  challenge_number  \\\n",
       "2   San Antonio    TX  George    Garcia               100                 1   \n",
       "4        Dallas    TX    Test   Account                55                 1   \n",
       "6       Chicago    IL  Andrew   Lablanc                81                 1   \n",
       "8   Springfield    IL    Mary     Smith                32                 1   \n",
       "11       Austin    TX    Juan  Martinez                99                 2   \n",
       "\n",
       "   submission_date day_of_week  \n",
       "2       2021-11-04    Thursday  \n",
       "4       2021-11-08      Monday  \n",
       "6       2021-11-12      Friday  \n",
       "8       2021-11-07      Sunday  \n",
       "11      2021-11-11    Thursday  "
      ]
     },
     "execution_count": 26,
     "metadata": {},
     "output_type": "execute_result"
    }
   ],
   "source": [
    "# Filter by anything after october\n",
    "filter_by_date = df['submission_date'] >= '2021-11'\n",
    "df_filtered = df.loc[filter_by_date]\n",
    "print(f\"Number of records:{len(df_filtered)}\")\n",
    "df_filtered.head()"
   ]
  },
  {
   "cell_type": "code",
   "execution_count": 14,
   "id": "09bd568b",
   "metadata": {},
   "outputs": [
    {
     "name": "stdout",
     "output_type": "stream",
     "text": [
      "Number of records:11\n"
     ]
    },
    {
     "data": {
      "text/html": [
       "<div>\n",
       "<style scoped>\n",
       "    .dataframe tbody tr th:only-of-type {\n",
       "        vertical-align: middle;\n",
       "    }\n",
       "\n",
       "    .dataframe tbody tr th {\n",
       "        vertical-align: top;\n",
       "    }\n",
       "\n",
       "    .dataframe thead th {\n",
       "        text-align: right;\n",
       "    }\n",
       "</style>\n",
       "<table border=\"1\" class=\"dataframe\">\n",
       "  <thead>\n",
       "    <tr style=\"text-align: right;\">\n",
       "      <th></th>\n",
       "      <th>location</th>\n",
       "      <th>state</th>\n",
       "      <th>name</th>\n",
       "      <th>lastname</th>\n",
       "      <th>challenge_grades</th>\n",
       "      <th>challenge_number</th>\n",
       "      <th>submission_date</th>\n",
       "      <th>day_of_week</th>\n",
       "    </tr>\n",
       "  </thead>\n",
       "  <tbody>\n",
       "    <tr>\n",
       "      <th>2</th>\n",
       "      <td>San Antonio</td>\n",
       "      <td>TX</td>\n",
       "      <td>George</td>\n",
       "      <td>Garcia</td>\n",
       "      <td>100</td>\n",
       "      <td>1</td>\n",
       "      <td>2021-11-04</td>\n",
       "      <td>Thursday</td>\n",
       "    </tr>\n",
       "    <tr>\n",
       "      <th>4</th>\n",
       "      <td>Dallas</td>\n",
       "      <td>TX</td>\n",
       "      <td>Test</td>\n",
       "      <td>Account</td>\n",
       "      <td>55</td>\n",
       "      <td>1</td>\n",
       "      <td>2021-11-08</td>\n",
       "      <td>Monday</td>\n",
       "    </tr>\n",
       "    <tr>\n",
       "      <th>8</th>\n",
       "      <td>Springfield</td>\n",
       "      <td>IL</td>\n",
       "      <td>Mary</td>\n",
       "      <td>Smith</td>\n",
       "      <td>32</td>\n",
       "      <td>1</td>\n",
       "      <td>2021-11-07</td>\n",
       "      <td>Sunday</td>\n",
       "    </tr>\n",
       "    <tr>\n",
       "      <th>15</th>\n",
       "      <td>Dallas</td>\n",
       "      <td>TX</td>\n",
       "      <td>Test</td>\n",
       "      <td>Account</td>\n",
       "      <td>60</td>\n",
       "      <td>2</td>\n",
       "      <td>2021-11-01</td>\n",
       "      <td>Monday</td>\n",
       "    </tr>\n",
       "    <tr>\n",
       "      <th>16</th>\n",
       "      <td>El Paso</td>\n",
       "      <td>TX</td>\n",
       "      <td>Gina</td>\n",
       "      <td>Perdue</td>\n",
       "      <td>86</td>\n",
       "      <td>2</td>\n",
       "      <td>2021-11-02</td>\n",
       "      <td>Tuesday</td>\n",
       "    </tr>\n",
       "  </tbody>\n",
       "</table>\n",
       "</div>"
      ],
      "text/plain": [
       "       location state    name lastname  challenge_grades  challenge_number  \\\n",
       "2   San Antonio    TX  George   Garcia               100                 1   \n",
       "4        Dallas    TX    Test  Account                55                 1   \n",
       "8   Springfield    IL    Mary    Smith                32                 1   \n",
       "15       Dallas    TX    Test  Account                60                 2   \n",
       "16      El Paso    TX    Gina   Perdue                86                 2   \n",
       "\n",
       "   submission_date day_of_week  \n",
       "2       2021-11-04    Thursday  \n",
       "4       2021-11-08      Monday  \n",
       "8       2021-11-07      Sunday  \n",
       "15      2021-11-01      Monday  \n",
       "16      2021-11-02     Tuesday  "
      ]
     },
     "execution_count": 14,
     "metadata": {},
     "output_type": "execute_result"
    }
   ],
   "source": [
    "# Filter by anything between 11/1/21 and 11/10/21\n",
    "filter_by_date = (df['submission_date'] >= '2021-11-01') & (df['submission_date'] <= '2021-11-10')\n",
    "df_filtered = df.loc[filter_by_date]\n",
    "print(f\"Number of records:{len(df_filtered)}\")\n",
    "df_filtered.head()"
   ]
  },
  {
   "cell_type": "markdown",
   "id": "1c33f878",
   "metadata": {},
   "source": [
    "#### Filter using pd.datetime dates"
   ]
  },
  {
   "cell_type": "code",
   "execution_count": 15,
   "id": "8ca1240a",
   "metadata": {},
   "outputs": [
    {
     "name": "stdout",
     "output_type": "stream",
     "text": [
      "Number of records:18\n"
     ]
    },
    {
     "data": {
      "text/html": [
       "<div>\n",
       "<style scoped>\n",
       "    .dataframe tbody tr th:only-of-type {\n",
       "        vertical-align: middle;\n",
       "    }\n",
       "\n",
       "    .dataframe tbody tr th {\n",
       "        vertical-align: top;\n",
       "    }\n",
       "\n",
       "    .dataframe thead th {\n",
       "        text-align: right;\n",
       "    }\n",
       "</style>\n",
       "<table border=\"1\" class=\"dataframe\">\n",
       "  <thead>\n",
       "    <tr style=\"text-align: right;\">\n",
       "      <th></th>\n",
       "      <th>location</th>\n",
       "      <th>state</th>\n",
       "      <th>name</th>\n",
       "      <th>lastname</th>\n",
       "      <th>challenge_grades</th>\n",
       "      <th>challenge_number</th>\n",
       "      <th>submission_date</th>\n",
       "      <th>day_of_week</th>\n",
       "    </tr>\n",
       "  </thead>\n",
       "  <tbody>\n",
       "    <tr>\n",
       "      <th>2</th>\n",
       "      <td>San Antonio</td>\n",
       "      <td>TX</td>\n",
       "      <td>George</td>\n",
       "      <td>Garcia</td>\n",
       "      <td>100</td>\n",
       "      <td>1</td>\n",
       "      <td>2021-11-04</td>\n",
       "      <td>Thursday</td>\n",
       "    </tr>\n",
       "    <tr>\n",
       "      <th>4</th>\n",
       "      <td>Dallas</td>\n",
       "      <td>TX</td>\n",
       "      <td>Test</td>\n",
       "      <td>Account</td>\n",
       "      <td>55</td>\n",
       "      <td>1</td>\n",
       "      <td>2021-11-08</td>\n",
       "      <td>Monday</td>\n",
       "    </tr>\n",
       "    <tr>\n",
       "      <th>6</th>\n",
       "      <td>Chicago</td>\n",
       "      <td>IL</td>\n",
       "      <td>Andrew</td>\n",
       "      <td>Lablanc</td>\n",
       "      <td>81</td>\n",
       "      <td>1</td>\n",
       "      <td>2021-11-12</td>\n",
       "      <td>Friday</td>\n",
       "    </tr>\n",
       "    <tr>\n",
       "      <th>8</th>\n",
       "      <td>Springfield</td>\n",
       "      <td>IL</td>\n",
       "      <td>Mary</td>\n",
       "      <td>Smith</td>\n",
       "      <td>32</td>\n",
       "      <td>1</td>\n",
       "      <td>2021-11-07</td>\n",
       "      <td>Sunday</td>\n",
       "    </tr>\n",
       "    <tr>\n",
       "      <th>11</th>\n",
       "      <td>Austin</td>\n",
       "      <td>TX</td>\n",
       "      <td>Juan</td>\n",
       "      <td>Martinez</td>\n",
       "      <td>99</td>\n",
       "      <td>2</td>\n",
       "      <td>2021-11-11</td>\n",
       "      <td>Thursday</td>\n",
       "    </tr>\n",
       "  </tbody>\n",
       "</table>\n",
       "</div>"
      ],
      "text/plain": [
       "       location state    name  lastname  challenge_grades  challenge_number  \\\n",
       "2   San Antonio    TX  George    Garcia               100                 1   \n",
       "4        Dallas    TX    Test   Account                55                 1   \n",
       "6       Chicago    IL  Andrew   Lablanc                81                 1   \n",
       "8   Springfield    IL    Mary     Smith                32                 1   \n",
       "11       Austin    TX    Juan  Martinez                99                 2   \n",
       "\n",
       "   submission_date day_of_week  \n",
       "2       2021-11-04    Thursday  \n",
       "4       2021-11-08      Monday  \n",
       "6       2021-11-12      Friday  \n",
       "8       2021-11-07      Sunday  \n",
       "11      2021-11-11    Thursday  "
      ]
     },
     "execution_count": 15,
     "metadata": {},
     "output_type": "execute_result"
    }
   ],
   "source": [
    "# Filter by anything after 11/1/21\n",
    "#filter_by_date = df['submission_date'] >= datetime(2021, 11, 1) \n",
    "#filter_by_date = df['submission_date'] >= datetime.strptime('11/01/2021', '%m/%d/%Y') \n",
    "filter_by_date = df['submission_date'] >= pd.to_datetime('11/01/2021') \n",
    "df_filtered = df.loc[filter_by_date]\n",
    "print(f\"Number of records:{len(df_filtered)}\")\n",
    "df_filtered.head()"
   ]
  },
  {
   "cell_type": "markdown",
   "id": "0a3f4b13",
   "metadata": {},
   "source": [
    "# strftime format \n",
    "https://strftime.org/"
   ]
  },
  {
   "cell_type": "markdown",
   "id": "f70fa8cd",
   "metadata": {},
   "source": [
    "### dateutil\n",
    "\n",
    "Functions that extend datetime module\n",
    "\n",
    "https://dateutil.readthedocs.io/en/stable/index.html"
   ]
  },
  {
   "cell_type": "code",
   "execution_count": 16,
   "id": "2a570682",
   "metadata": {},
   "outputs": [
    {
     "name": "stdout",
     "output_type": "stream",
     "text": [
      "Requirement already satisfied: python-dateutil in c:\\programdata\\anaconda3\\envs\\pythondata\\lib\\site-packages (2.8.1)\n",
      "Requirement already satisfied: six>=1.5 in c:\\programdata\\anaconda3\\envs\\pythondata\\lib\\site-packages (from python-dateutil) (1.15.0)\n"
     ]
    }
   ],
   "source": [
    "!pip install python-dateutil"
   ]
  },
  {
   "cell_type": "code",
   "execution_count": 17,
   "id": "2d5109f3",
   "metadata": {},
   "outputs": [],
   "source": [
    "from dateutil.relativedelta import *\n",
    "import calendar\n",
    "from dateutil.parser import *\n",
    "from dateutil.tz import *"
   ]
  },
  {
   "cell_type": "code",
   "execution_count": 18,
   "id": "d36fd770",
   "metadata": {},
   "outputs": [
    {
     "data": {
      "text/plain": [
       "datetime.datetime(2021, 11, 18, 20, 31, 34, 244996)"
      ]
     },
     "execution_count": 18,
     "metadata": {},
     "output_type": "execute_result"
    }
   ],
   "source": [
    "datetime.now()"
   ]
  },
  {
   "cell_type": "code",
   "execution_count": 28,
   "id": "71919a5f",
   "metadata": {},
   "outputs": [
    {
     "data": {
      "text/plain": [
       "datetime.datetime(2021, 11, 18, 20, 37, 10, 407675)"
      ]
     },
     "execution_count": 28,
     "metadata": {},
     "output_type": "execute_result"
    }
   ],
   "source": [
    "datetime.today()"
   ]
  },
  {
   "cell_type": "code",
   "execution_count": 29,
   "id": "9f7b89ad",
   "metadata": {},
   "outputs": [
    {
     "data": {
      "text/plain": [
       "datetime.datetime(2021, 12, 18, 20, 37, 26, 810980)"
      ]
     },
     "execution_count": 29,
     "metadata": {},
     "output_type": "execute_result"
    }
   ],
   "source": [
    "# Next month\n",
    "datetime.now()+relativedelta(months=+1)"
   ]
  },
  {
   "cell_type": "code",
   "execution_count": null,
   "id": "2b12e262",
   "metadata": {},
   "outputs": [],
   "source": [
    "# Next month, plus one week\n",
    "right_now = datetime.now()\n",
    "right_now+relativedelta(months=+1, weeks=+1)"
   ]
  },
  {
   "cell_type": "code",
   "execution_count": null,
   "id": "6a6067bb",
   "metadata": {},
   "outputs": [],
   "source": [
    "# Relative Delta since class started \n",
    "classs_first_date = datetime(2021, 10, 19, 18, 0)\n",
    "relativedelta(datetime.now(), classs_first_date)\n"
   ]
  },
  {
   "cell_type": "code",
   "execution_count": 30,
   "id": "893e026d",
   "metadata": {},
   "outputs": [
    {
     "data": {
      "text/plain": [
       "datetime.datetime(2021, 11, 18, 0, 0)"
      ]
     },
     "execution_count": 30,
     "metadata": {},
     "output_type": "execute_result"
    }
   ],
   "source": [
    "parse(\"2021-11-18\")"
   ]
  },
  {
   "cell_type": "code",
   "execution_count": 31,
   "id": "8d5343c7",
   "metadata": {},
   "outputs": [
    {
     "data": {
      "text/plain": [
       "datetime.datetime(2021, 11, 18, 20, 15)"
      ]
     },
     "execution_count": 31,
     "metadata": {},
     "output_type": "execute_result"
    }
   ],
   "source": [
    "parse(\"2021-11-18 8:15PM\")"
   ]
  },
  {
   "cell_type": "code",
   "execution_count": 32,
   "id": "695b1d09",
   "metadata": {},
   "outputs": [
    {
     "data": {
      "text/plain": [
       "datetime.datetime(2021, 11, 11, 0, 0)"
      ]
     },
     "execution_count": 32,
     "metadata": {},
     "output_type": "execute_result"
    }
   ],
   "source": [
    "parse(\"11 November 2021\")"
   ]
  },
  {
   "cell_type": "code",
   "execution_count": 33,
   "id": "143608fa",
   "metadata": {},
   "outputs": [
    {
     "data": {
      "text/plain": [
       "datetime.datetime(2021, 11, 11, 17, 0)"
      ]
     },
     "execution_count": 33,
     "metadata": {},
     "output_type": "execute_result"
    }
   ],
   "source": [
    "parse(\"11 November 2021 at 5pm\")"
   ]
  },
  {
   "cell_type": "code",
   "execution_count": 34,
   "id": "cdb449bb",
   "metadata": {},
   "outputs": [
    {
     "data": {
      "text/plain": [
       "datetime.datetime(2021, 11, 18, 23, 0)"
      ]
     },
     "execution_count": 34,
     "metadata": {},
     "output_type": "execute_result"
    }
   ],
   "source": [
    "parse(\"11:00pm\")"
   ]
  },
  {
   "cell_type": "code",
   "execution_count": 36,
   "id": "cd92b073",
   "metadata": {},
   "outputs": [
    {
     "data": {
      "text/plain": [
       "datetime.datetime(2021, 6, 13, 5, 50)"
      ]
     },
     "execution_count": 36,
     "metadata": {},
     "output_type": "execute_result"
    }
   ],
   "source": [
    "parse(\"5:50 A.M. on June 13, 2021\")"
   ]
  },
  {
   "cell_type": "code",
   "execution_count": null,
   "id": "cdbf4d3a",
   "metadata": {},
   "outputs": [],
   "source": []
  }
 ],
 "metadata": {
  "kernelspec": {
   "display_name": "PythonData",
   "language": "python",
   "name": "pythondata"
  },
  "language_info": {
   "codemirror_mode": {
    "name": "ipython",
    "version": 3
   },
   "file_extension": ".py",
   "mimetype": "text/x-python",
   "name": "python",
   "nbconvert_exporter": "python",
   "pygments_lexer": "ipython3",
   "version": "3.7.10"
  }
 },
 "nbformat": 4,
 "nbformat_minor": 5
}

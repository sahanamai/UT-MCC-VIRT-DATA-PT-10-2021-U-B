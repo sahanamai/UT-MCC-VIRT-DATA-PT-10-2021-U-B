{
 "cells": [
  {
   "cell_type": "markdown",
   "id": "3fcad9c6",
   "metadata": {},
   "source": [
    "## RESTful API\n",
    "\n",
    "\"**RE**presentational **S**tate **T**ransfer and an architectural style for distributed hypermedia systems\"\n",
    "\n",
    "https://restfulapi.net/"
   ]
  },
  {
   "cell_type": "markdown",
   "id": "0af5dbec",
   "metadata": {},
   "source": [
    "### Online client - Hoppscotch.io\n",
    "https://hoppscotch.io/"
   ]
  },
  {
   "cell_type": "markdown",
   "id": "5f956d4d",
   "metadata": {},
   "source": [
    "## Github Repo\n",
    "https://github.com/hoppscotch/hoppscotch"
   ]
  }
 ],
 "metadata": {
  "kernelspec": {
   "display_name": "Python 3",
   "language": "python",
   "name": "python3"
  },
  "language_info": {
   "codemirror_mode": {
    "name": "ipython",
    "version": 3
   },
   "file_extension": ".py",
   "mimetype": "text/x-python",
   "name": "python",
   "nbconvert_exporter": "python",
   "pygments_lexer": "ipython3",
   "version": "3.7.10"
  }
 },
 "nbformat": 4,
 "nbformat_minor": 5
}
